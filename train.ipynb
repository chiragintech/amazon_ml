{
  "nbformat": 4,
  "nbformat_minor": 0,
  "metadata": {
    "colab": {
      "provenance": [],
      "mount_file_id": "11rs7XAms1vDYePlCNULwNKIgEn8OyC0X",
      "authorship_tag": "ABX9TyMrqe3lUTMyjjINOAngR/Fz",
      "include_colab_link": true
    },
    "kernelspec": {
      "name": "python3",
      "display_name": "Python 3"
    },
    "language_info": {
      "name": "python"
    }
  },
  "cells": [
    {
      "cell_type": "markdown",
      "metadata": {
        "id": "view-in-github",
        "colab_type": "text"
      },
      "source": [
        "<a href=\"https://colab.research.google.com/github/chiragintech/amazon_ml/blob/main/train.ipynb\" target=\"_parent\"><img src=\"https://colab.research.google.com/assets/colab-badge.svg\" alt=\"Open In Colab\"/></a>"
      ]
    },
    {
      "cell_type": "code",
      "source": [
        "import os\n",
        "import pandas as pd"
      ],
      "metadata": {
        "id": "GShbRossmVF0"
      },
      "execution_count": 1,
      "outputs": []
    },
    {
      "cell_type": "code",
      "source": [
        "train = pd.read_csv('train.csv')\n",
        "test = pd.read_csv('test.csv')\n",
        "sample_test = pd.read_csv('sample_test.csv')\n",
        "sample_test_out = pd.read_csv('sample_test_out.csv')"
      ],
      "metadata": {
        "id": "6p2wpvthmonV"
      },
      "execution_count": 5,
      "outputs": []
    },
    {
      "cell_type": "code",
      "source": [],
      "metadata": {
        "id": "F2acWUZKs5ou"
      },
      "execution_count": null,
      "outputs": []
    },
    {
      "cell_type": "code",
      "source": [
        "!python sanity.py --test_filename ../sample_test.csv --output_filename ../sample_test_out.csv"
      ],
      "metadata": {
        "colab": {
          "base_uri": "https://localhost:8080/"
        },
        "id": "ngLxrV_RnfUj",
        "outputId": "ac7ad031-5631-44ad-9bd5-21ca7aa0fc26"
      },
      "execution_count": 8,
      "outputs": [
        {
          "output_type": "stream",
          "name": "stdout",
          "text": [
            "Traceback (most recent call last):\n",
            "  File \"/content/sanity.py\", line 5, in <module>\n",
            "    import constants\n",
            "ModuleNotFoundError: No module named 'constants'\n"
          ]
        }
      ]
    },
    {
      "cell_type": "code",
      "source": [
        "!python sanity.py --test_filename ../sample_test.csv --output_filename ../sample_test_out_fail.csv"
      ],
      "metadata": {
        "colab": {
          "base_uri": "https://localhost:8080/"
        },
        "id": "VhHPecfKoSTi",
        "outputId": "3db1ff85-df2f-4f59-a373-99d6ea2cb54f"
      },
      "execution_count": 9,
      "outputs": [
        {
          "output_type": "stream",
          "name": "stdout",
          "text": [
            "Traceback (most recent call last):\n",
            "  File \"/content/sanity.py\", line 5, in <module>\n",
            "    import constants\n",
            "ModuleNotFoundError: No module named 'constants'\n"
          ]
        }
      ]
    },
    {
      "cell_type": "code",
      "source": [
        "import re\n",
        "import constants\n",
        "import os\n",
        "import requests\n",
        "import pandas as pd\n",
        "import multiprocessing\n",
        "import time\n",
        "from time import time as timer\n",
        "from tqdm import tqdm\n",
        "import numpy as np\n",
        "from pathlib import Path\n",
        "from functools import partial\n",
        "import requests\n",
        "import urllib\n",
        "from PIL import Image\n",
        "\n",
        "def common_mistake(unit):\n",
        "    if unit in constants.allowed_units:\n",
        "        return unit\n",
        "    if unit.replace('ter', 'tre') in constants.allowed_units:\n",
        "        return unit.replace('ter', 'tre')\n",
        "    if unit.replace('feet', 'foot') in constants.allowed_units:\n",
        "        return unit.replace('feet', 'foot')\n",
        "    return unit\n",
        "\n",
        "def parse_string(s):\n",
        "    s_stripped = \"\" if s==None or str(s)=='nan' else s.strip()\n",
        "    if s_stripped == \"\":\n",
        "        return None, None\n",
        "    pattern = re.compile(r'^-?\\d+(\\.\\d+)?\\s+[a-zA-Z\\s]+$')\n",
        "    if not pattern.match(s_stripped):\n",
        "        raise ValueError(\"Invalid format in {}\".format(s))\n",
        "    parts = s_stripped.split(maxsplit=1)\n",
        "    number = float(parts[0])\n",
        "    unit = common_mistake(parts[1])\n",
        "    if unit not in constants.allowed_units:\n",
        "        raise ValueError(\"Invalid unit [{}] found in {}. Allowed units: {}\".format(\n",
        "            unit, s, constants.allowed_units))\n",
        "    return number, unit\n",
        "\n",
        "\n",
        "def create_placeholder_image(image_save_path):\n",
        "    try:\n",
        "        placeholder_image = Image.new('RGB', (100, 100), color='black')\n",
        "        placeholder_image.save(image_save_path)\n",
        "    except Exception as e:\n",
        "        return\n",
        "\n",
        "def download_image(image_link, save_folder, retries=3, delay=3):\n",
        "    if not isinstance(image_link, str):\n",
        "        return\n",
        "\n",
        "    filename = Path(image_link).name\n",
        "    image_save_path = os.path.join(save_folder, filename)\n",
        "\n",
        "    if os.path.exists(image_save_path):\n",
        "        return\n",
        "\n",
        "    for _ in range(retries):\n",
        "        try:\n",
        "            urllib.request.urlretrieve(image_link, image_save_path)\n",
        "            return\n",
        "        except:\n",
        "            time.sleep(delay)\n",
        "\n",
        "    create_placeholder_image(image_save_path) #Create a black placeholder image for invalid links/images\n",
        "\n",
        "def download_images(image_links, download_folder, allow_multiprocessing=True):\n",
        "    if not os.path.exists(download_folder):\n",
        "        os.makedirs(download_folder)\n",
        "\n",
        "    if allow_multiprocessing:\n",
        "        download_image_partial = partial(\n",
        "            download_image, save_folder=download_folder, retries=3, delay=3)\n",
        "\n",
        "        with multiprocessing.Pool(16) as pool:\n",
        "            list(tqdm(pool.imap(download_image_partial, image_links), total=len(image_links)))\n",
        "            pool.close()\n",
        "            pool.join()\n",
        "    else:\n",
        "        for image_link in tqdm(image_links, total=len(image_links)):\n",
        "            download_image(image_link, save_folder=download_folder, retries=3, delay=3)\n",
        ""
      ],
      "metadata": {
        "id": "uJVQdD2poqAP"
      },
      "execution_count": 24,
      "outputs": []
    },
    {
      "cell_type": "code",
      "source": [
        "\n",
        "sample_test = pd.read_csv('train.csv')\n",
        "print(sample_test.head())"
      ],
      "metadata": {
        "colab": {
          "base_uri": "https://localhost:8080/"
        },
        "id": "If28CoRoqHjq",
        "outputId": "d8ce02b4-887f-4b24-a06d-712be0f60ca5"
      },
      "execution_count": 26,
      "outputs": [
        {
          "output_type": "stream",
          "name": "stdout",
          "text": [
            "                                          image_link  group_id  entity_name  \\\n",
            "0  https://m.media-amazon.com/images/I/61I9XdN6OF...    748919  item_weight   \n",
            "1  https://m.media-amazon.com/images/I/71gSRbyXmo...    916768  item_volume   \n",
            "2  https://m.media-amazon.com/images/I/61BZ4zrjZX...    459516  item_weight   \n",
            "3  https://m.media-amazon.com/images/I/612mrlqiI4...    459516  item_weight   \n",
            "4  https://m.media-amazon.com/images/I/617Tl40LOX...    731432  item_weight   \n",
            "\n",
            "     entity_value  \n",
            "0      500.0 gram  \n",
            "1         1.0 cup  \n",
            "2      0.709 gram  \n",
            "3      0.709 gram  \n",
            "4  1400 milligram  \n"
          ]
        }
      ]
    },
    {
      "cell_type": "code",
      "source": [
        "from utils import download_images\n",
        "download_images(sample_test['image_link'], '../images')"
      ],
      "metadata": {
        "colab": {
          "base_uri": "https://localhost:8080/"
        },
        "id": "arZqZ57Ao93q",
        "outputId": "734e7e2c-76a0-4386-8e5a-da2ac3b7322a"
      },
      "execution_count": 27,
      "outputs": [
        {
          "output_type": "stream",
          "name": "stderr",
          "text": [
            "100%|██████████| 263859/263859 [41:50<00:00, 105.12it/s]\n"
          ]
        }
      ]
    }
  ]
}